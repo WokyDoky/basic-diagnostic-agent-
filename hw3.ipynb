{
 "cells": [
  {
   "cell_type": "code",
   "id": "initial_id",
   "metadata": {
    "collapsed": true,
    "ExecuteTime": {
     "end_time": "2024-11-10T19:42:42.400225Z",
     "start_time": "2024-11-10T19:42:42.373804Z"
    }
   },
   "source": [
    "import pandas as pd\n",
    "from typing import List, Dict\n",
    "data = pd.read_csv('Health_Data_Set.csv')\n",
    "print(data)"
   ],
   "outputs": [
    {
     "name": "stdout",
     "output_type": "stream",
     "text": [
      "     Symptom 1  Symptom 2  Symptom 3  Symptom 4  Condition\n",
      "0            1          1          0          0          0\n",
      "1            0          1          0          0          0\n",
      "2            0          1          1          0          3\n",
      "3            1          0          1          1          1\n",
      "4            1          0          0          0          3\n",
      "..         ...        ...        ...        ...        ...\n",
      "200          0          1          1          1          1\n",
      "201          1          1          1          0          1\n",
      "202          1          0          0          1          2\n",
      "203          1          0          0          1          2\n",
      "204          1          0          0          1          1\n",
      "\n",
      "[205 rows x 5 columns]\n"
     ]
    }
   ],
   "execution_count": 149
  },
  {
   "metadata": {
    "ExecuteTime": {
     "end_time": "2024-11-10T19:42:42.415083Z",
     "start_time": "2024-11-10T19:42:42.407384Z"
    }
   },
   "cell_type": "code",
   "source": [
    "\n",
    "#Normalized data?  \n",
    "\n",
    "\n",
    "df = pd.DataFrame(data)\n",
    "print(df.shape)\n",
    "\n",
    "counts = df.apply(lambda x: x.value_counts(normalize=True)).fillna(0)\n",
    " \n",
    "# Display the counts\n",
    "print(counts)\n"
   ],
   "id": "4a404b27678ab25a",
   "outputs": [
    {
     "name": "stdout",
     "output_type": "stream",
     "text": [
      "(205, 5)\n",
      "   Symptom 1  Symptom 2  Symptom 3  Symptom 4  Condition\n",
      "0   0.565854   0.560976   0.604878   0.526829   0.160976\n",
      "1   0.434146   0.439024   0.395122   0.473171   0.282927\n",
      "2   0.000000   0.000000   0.000000   0.000000   0.321951\n",
      "3   0.000000   0.000000   0.000000   0.000000   0.234146\n"
     ]
    }
   ],
   "execution_count": 150
  },
  {
   "metadata": {
    "ExecuteTime": {
     "end_time": "2024-11-10T19:42:42.434977Z",
     "start_time": "2024-11-10T19:42:42.431277Z"
    }
   },
   "cell_type": "code",
   "source": [
    "#Normalized data? \n",
    "\n",
    "import numpy as np\n",
    "\n",
    "def analyze_symptoms(df, data, num_symptoms=4):\n",
    "    ones_array = np.zeros(num_symptoms)\n",
    "    zeros_array = np.zeros(num_symptoms)\n",
    "    \n",
    "    # Calculate values for each symptom\n",
    "    for i in range(1, num_symptoms + 1):\n",
    "        symptom_col = f'Symptom {i}'\n",
    "        counts = df[symptom_col].value_counts()\n",
    "        \n",
    "        # Store values in arrays\n",
    "        ones_array[i-1] = counts[1] / (len(data) * 4)\n",
    "        zeros_array[i-1] = counts[0] / (len(data) * 4)\n",
    "        \n",
    "        # Print results\n",
    "        print(f\"Symptom {i}: {ones_array[i-1]:.4f} - {zeros_array[i-1]:.4f}\")\n",
    "    \n",
    "    return ones_array, zeros_array"
   ],
   "id": "2e44904b967f5133",
   "outputs": [],
   "execution_count": 151
  },
  {
   "metadata": {
    "ExecuteTime": {
     "end_time": "2024-11-10T21:51:52.527633Z",
     "start_time": "2024-11-10T21:51:52.519911Z"
    }
   },
   "cell_type": "code",
   "source": [
    "joint = np.zeros((4, 4))\n",
    "\n",
    "for i in range(4):\n",
    "    for j in range(4):\n",
    "        symptom_col = f'Symptom {i + 1}'\n",
    "        joint[i][j] = np.sum((df[symptom_col] == 1) & (df['Condition'] == j))\n",
    "        joint[i][j] /= len(data) * 4        \n",
    "\n",
    "\n",
    "joint_with_zeros = np.zeros((4, 4))\n",
    "\n",
    "for i in range(4):\n",
    "    for j in range(4):\n",
    "        symptom_col = f'Symptom {i + 1}'\n",
    "        joint_with_zeros[i][j] = np.sum((df[symptom_col] == 0) & (df['Condition'] == j))\n",
    "        joint_with_zeros[i][j] /= len(data) * 4\n",
    "#Condition X axis, Symptom Y axis. \n",
    "#Joint [1][0] = Symptom -> 2 and Condition -> 0\n",
    "#Joint [0][1] = Symptom -> 1 and Condition -> 1\n"
   ],
   "id": "c6a31e6496b8fe27",
   "outputs": [],
   "execution_count": 255
  },
  {
   "metadata": {
    "ExecuteTime": {
     "end_time": "2024-11-10T21:51:54.431957Z",
     "start_time": "2024-11-10T21:51:54.428324Z"
    }
   },
   "cell_type": "code",
   "source": [
    "print(joint)\n",
    "print()\n",
    "print(joint_with_zeros)\n",
    "print (np.sum(joint) + np.sum (joint_with_zeros))"
   ],
   "id": "2c1fc53836487493",
   "outputs": [
    {
     "name": "stdout",
     "output_type": "stream",
     "text": [
      "[[0.01463415 0.03292683 0.04756098 0.01341463]\n",
      " [0.00731707 0.03780488 0.02804878 0.03658537]\n",
      " [0.00487805 0.03902439 0.03414634 0.02073171]\n",
      " [0.0097561  0.04756098 0.03780488 0.02317073]]\n",
      "\n",
      "[[0.02560976 0.03780488 0.03292683 0.04512195]\n",
      " [0.03292683 0.03292683 0.05243902 0.02195122]\n",
      " [0.03536585 0.03170732 0.04634146 0.03780488]\n",
      " [0.0304878  0.02317073 0.04268293 0.03536585]]\n",
      "1.0\n"
     ]
    }
   ],
   "execution_count": 256
  },
  {
   "metadata": {
    "ExecuteTime": {
     "end_time": "2024-11-10T22:13:03.585554Z",
     "start_time": "2024-11-10T22:13:03.567716Z"
    }
   },
   "cell_type": "code",
   "source": [
    "joint = np.zeros((2, 2, 2, 2, 4))\n",
    "\n",
    "# Count occurrences\n",
    "for index, row in df.iterrows():\n",
    "    s1, s2, s3, s4, condition = row\n",
    "    joint[int(s1)][int(s2)][int(s3)][int(s4)][int(condition)] += 1\n",
    "\n",
    "# Normalize the joint probability matrix\n",
    "joint /= len(data)\n",
    "\n",
    "# Print the joint probability matrix\n",
    "print(joint)"
   ],
   "id": "3dcffb7c6479b592",
   "outputs": [
    {
     "name": "stdout",
     "output_type": "stream",
     "text": [
      "[[[[[0.05853659 0.01463415 0.00487805 0.0097561 ]\n",
      "    [0.0195122  0.03902439 0.00487805 0.03902439]]\n",
      "\n",
      "   [[0.00487805 0.         0.03902439 0.00487805]\n",
      "    [0.         0.         0.02926829 0.0097561 ]]]\n",
      "\n",
      "\n",
      "  [[[0.01463415 0.0097561  0.0097561  0.04390244]\n",
      "    [0.00487805 0.03902439 0.03414634 0.02439024]]\n",
      "\n",
      "   [[0.         0.00487805 0.0097561  0.03902439]\n",
      "    [0.         0.04390244 0.         0.0097561 ]]]]\n",
      "\n",
      "\n",
      "\n",
      " [[[[0.02439024 0.00487805 0.03414634 0.0097561 ]\n",
      "    [0.0097561  0.01463415 0.04390244 0.00487805]]\n",
      "\n",
      "   [[0.0097561  0.02926829 0.04390244 0.0097561 ]\n",
      "    [0.00487805 0.02926829 0.0097561  0.        ]]]\n",
      "\n",
      "\n",
      "  [[[0.0097561  0.         0.02926829 0.01463415]\n",
      "    [0.         0.00487805 0.02439024 0.00487805]]\n",
      "\n",
      "   [[0.         0.02926829 0.         0.0097561 ]\n",
      "    [0.         0.0195122  0.00487805 0.        ]]]]]\n"
     ]
    }
   ],
   "execution_count": 257
  }
 ],
 "metadata": {
  "kernelspec": {
   "display_name": "Python 3",
   "language": "python",
   "name": "python3"
  },
  "language_info": {
   "codemirror_mode": {
    "name": "ipython",
    "version": 2
   },
   "file_extension": ".py",
   "mimetype": "text/x-python",
   "name": "python",
   "nbconvert_exporter": "python",
   "pygments_lexer": "ipython2",
   "version": "2.7.6"
  }
 },
 "nbformat": 4,
 "nbformat_minor": 5
}
